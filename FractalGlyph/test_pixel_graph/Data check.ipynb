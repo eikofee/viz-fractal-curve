{
 "cells": [
  {
   "cell_type": "code",
   "execution_count": 1,
   "metadata": {},
   "outputs": [
    {
     "data": {
      "text/plain": [
       "[(0.6509803921568628, 0.807843137254902, 0.8901960784313725, 1),\n",
       " (0.12156862745098039, 0.47058823529411764, 0.7058823529411765, 1),\n",
       " (0.6980392156862745, 0.8745098039215686, 0.5411764705882353, 1),\n",
       " (0.2, 0.6274509803921569, 0.17254901960784313, 1),\n",
       " (0.984313725490196, 0.6039215686274509, 0.6, 1),\n",
       " (0.8901960784313725, 0.10196078431372549, 0.10980392156862745, 1),\n",
       " (0.9921568627450981, 0.7490196078431373, 0.43529411764705883, 1),\n",
       " (1.0, 0.4980392156862745, 0.0, 1),\n",
       " (0.792156862745098, 0.6980392156862745, 0.8392156862745098, 1),\n",
       " (0.41568627450980394, 0.23921568627450981, 0.6039215686274509, 1),\n",
       " (1.0, 1.0, 0.6, 1),\n",
       " (0.6941176470588235, 0.34901960784313724, 0.1568627450980392, 1)]"
      ]
     },
     "execution_count": 1,
     "metadata": {},
     "output_type": "execute_result"
    }
   ],
   "source": [
    "# Check if results are coherent\n",
    "\n",
    "import numpy as np\n",
    "\n",
    "SYSTEM = \"dlenet-fashion\"\n",
    "#SYSTEM = \"lenet-fashion\"\n",
    "#SYSTEM = \"lenet-mnist\"\n",
    "SYSTEM = \"vgg16-cifar10\"\n",
    "#SYSTEM = \"vgg16-mnist\"\n",
    "\n",
    "if SYSTEM == \"dlenet-fashion\":\n",
    "    FNAME = \"data/dlenet-fashion/00_L_lambda.csv\"\n",
    "    labels= ['Tshirt/top', 'Trouser', 'Pullover', 'Dress', 'Coat', 'Sandal', 'Shirt', 'Sneaker', 'Bag', 'Ankle boot']\n",
    "    xrotate = True\n",
    "elif SYSTEM == \"lenet-fashion\":\n",
    "    FNAME = \"data/lenet-fashion/00_conv2d0.csv\"\n",
    "    labels= ['Tshirt/top', 'Trouser', 'Pullover', 'Dress', 'Coat', 'Sandal', 'Shirt', 'Sneaker', 'Bag', 'Ankle boot']\n",
    "    xrotate = True\n",
    "elif SYSTEM == \"lenet-mnist\":\n",
    "    FNAME = \"data/lenet-mnist/00_conv2d0.csv\"\n",
    "    labels= ['0', '1', '2', '3', '4', '5', '6', '7', '8', '9']\n",
    "    xrotate = False\n",
    "elif SYSTEM == \"vgg16-cifar10\":\n",
    "    FNAME = \"data/vgg16-cifar10/00_block1_conv1.csv\"\n",
    "    labels= ['airplane', 'automobile', 'bird', 'cat', 'deer', 'dog', 'frog', 'horse', 'ship', 'truck']\n",
    "    xrotate = True\n",
    "elif SYSTEM == \"vgg16-mnist\":\n",
    "    FNAME = \"data/vgg16-mnist/00_block1_conv1.csv\"\n",
    "    labels= ['0', '1', '2', '3', '4', '5', '6', '7', '8', '9']\n",
    "    xrotate = False\n",
    "\n",
    "else:\n",
    "    assert False, \"%s unknown\" % SYSTEM\n",
    "\n",
    "GT_INDICE = 1\n",
    "PRED_INDICE = 2\n",
    "colors=[\n",
    "    [166, 206, 227],\n",
    "    [31, 120, 180],\n",
    "    [178, 223, 138],\n",
    "    [51, 160, 44],\n",
    "    [251, 154, 153],\n",
    "    [227, 26, 28],\n",
    "    [253, 191, 111],\n",
    "    [255, 127, 0],\n",
    "    [202, 178, 214],\n",
    "    [106, 61, 154],\n",
    "    [255, 255, 153],\n",
    "    [177, 89, 40]\n",
    "]\n",
    "colors = [ (c[0]/255., c[1]/255., c[2]/255, 1) for c in colors]\n",
    "colors"
   ]
  },
  {
   "cell_type": "code",
   "execution_count": 2,
   "metadata": {},
   "outputs": [],
   "source": [
    "data = np.loadtxt(FNAME, delimiter=\",\")\n",
    "pred = data[:, PRED_INDICE]\n",
    "gt = data[:, GT_INDICE]"
   ]
  },
  {
   "cell_type": "code",
   "execution_count": 3,
   "metadata": {
    "tags": []
   },
   "outputs": [
    {
     "name": "stdout",
     "output_type": "stream",
     "text": [
      "Accuracy 37.12\n"
     ]
    }
   ],
   "source": [
    "accuracy = 100*np.mean(pred == gt)\n",
    "print(\"Accuracy\", accuracy)\n"
   ]
  },
  {
   "cell_type": "code",
   "execution_count": 4,
   "metadata": {},
   "outputs": [
    {
     "data": {
      "image/png": "[encoded data removed]",
      "text/plain": [
       "<Figure size 432x288 with 2 Axes>"
      ]
     },
     "metadata": {},
     "output_type": "display_data"
    }
   ],
   "source": [
    "from sklearn.metrics import confusion_matrix, ConfusionMatrixDisplay\n",
    "import matplotlib.pyplot as plt\n",
    "\n",
    "mat = confusion_matrix(gt, pred, normalize='true')\n",
    "disp = ConfusionMatrixDisplay(mat, display_labels=labels)\n",
    "disp.plot(include_values=False)\n",
    "plt.gca().tick_params(axis='x')\n",
    "for idx, col in enumerate(colors[:len(plt.gca().get_xticklabels())]):\n",
    "    plt.gca().get_xticklabels()[idx].set_color(col)    \n",
    "    plt.gca().get_yticklabels()[idx].set_color(col)\n",
    "    plt.gca().get_xticklabels()[idx].set_weight('bold')\n",
    "    plt.gca().get_yticklabels()[idx].set_weight('bold')\n",
    "    if xrotate:\n",
    "        plt.gca().get_xticklabels()[idx].set_rotation(45)\n",
    "plt.title(\"Accuracy: %.2f%%\" % accuracy)\n",
    "plt.tight_layout()\n",
    "plt.savefig(\"cf_\" + SYSTEM + \".pdf\")"
   ]
  },
  {
   "cell_type": "code",
   "execution_count": null,
   "metadata": {},
   "outputs": [],
   "source": []
  },
  {
   "cell_type": "code",
   "execution_count": null,
   "metadata": {},
   "outputs": [],
   "source": []
  }
 ],
 "metadata": {
  "kernelspec": {
   "display_name": "Python 3",
   "language": "python",
   "name": "python3"
  },
  "language_info": {
   "codemirror_mode": {
    "name": "ipython",
    "version": 3
   },
   "file_extension": ".py",
   "mimetype": "text/x-python",
   "name": "python",
   "nbconvert_exporter": "python",
   "pygments_lexer": "ipython3",
   "version": "3.8.2"
  }
 },
 "nbformat": 4,
 "nbformat_minor": 4
}
